{
 "cells": [
  {
   "cell_type": "code",
   "execution_count": 1,
   "metadata": {
    "collapsed": false
   },
   "outputs": [
    {
     "name": "stdout",
     "output_type": "stream",
     "text": [
      "Populating the interactive namespace from numpy and matplotlib\n"
     ]
    },
    {
     "name": "stderr",
     "output_type": "stream",
     "text": [
      "C:\\Users\\Krishna\\Anaconda2\\lib\\site-packages\\sklearn\\cross_validation.py:44: DeprecationWarning: This module was deprecated in version 0.18 in favor of the model_selection module into which all the refactored classes and functions are moved. Also note that the interface of the new CV iterators are different from that of this module. This module will be removed in 0.20.\n",
      "  \"This module will be removed in 0.20.\", DeprecationWarning)\n",
      "C:\\Users\\Krishna\\Anaconda2\\lib\\site-packages\\sklearn\\grid_search.py:43: DeprecationWarning: This module was deprecated in version 0.18 in favor of the model_selection module into which all the refactored classes and functions are moved. This module will be removed in 0.20.\n",
      "  DeprecationWarning)\n",
      "C:\\Users\\Krishna\\Anaconda2\\lib\\site-packages\\sklearn\\learning_curve.py:23: DeprecationWarning: This module was deprecated in version 0.18 in favor of the model_selection module into which all the functions are moved. This module will be removed in 0.20\n",
      "  DeprecationWarning)\n"
     ]
    }
   ],
   "source": [
    "#Importing necessary Libraries;\n",
    "%matplotlib inline\n",
    "%pylab inline\n",
    "pylab.rcParams['figure.figsize'] = (14,6)\n",
    "from matplotlib.colors import ListedColormap\n",
    "from sklearn import neighbors\n",
    "import matplotlib.pyplot as plt\n",
    "import seaborn as sns\n",
    "import pandas as pd\n",
    "import sklearn as sk\n",
    "import numpy as np\n",
    "from sklearn import linear_model\n",
    "from sklearn.metrics import (brier_score_loss, precision_score, recall_score,\n",
    "                             f1_score)\n",
    "from sklearn.cross_validation import cross_val_score\n",
    "from sklearn.metrics import confusion_matrix\n",
    "import sklearn.metrics as  metrics\n",
    "from IPython.display import display\n",
    "from sklearn.cross_validation import train_test_split\n",
    "#from sklearn.cross_validation import  cross_val_score\n",
    "from sklearn.model_selection import  cross_val_score\n",
    "from sklearn.grid_search import GridSearchCV\n",
    "from sklearn import tree\n",
    "from sklearn import naive_bayes\n",
    "from sklearn.learning_curve import learning_curve\n",
    "from sklearn import cross_validation\n",
    "from sklearn.metrics import  make_scorer\n",
    "from sklearn.svm import SVC\n",
    "from sklearn.neural_network import MLPClassifier\n",
    "sns.set(style=\"darkgrid\")\n",
    "import os"
   ]
  },
  {
   "cell_type": "code",
   "execution_count": 2,
   "metadata": {
    "collapsed": true
   },
   "outputs": [],
   "source": [
    "from sklearn.ensemble import RandomForestRegressor\n",
    "from sklearn.metrics import roc_auc_score"
   ]
  },
  {
   "cell_type": "code",
   "execution_count": 35,
   "metadata": {
    "collapsed": true
   },
   "outputs": [],
   "source": [
    "#User defined functions;\n",
    "def confustion_matrix(y_test,y_predicted):\n",
    "    confusionMatrix=confusion_matrix(y_test,y_predicted)\n",
    "    Confu_matrix_df=pd.DataFrame(confusionMatrix)\n",
    "    Confu_matrix_df.columns.name='PREDICTED'\n",
    "    Confu_matrix_df.index.name='ACTUAL'\n",
    "    Confu_matrix_df.name='CONFUSION MATRIX'\n",
    "    print \"CONFUSION MATRIX\"\n",
    "    print display(Confu_matrix_df)\n",
    "    confusionmatrix=Confu_matrix_df\n",
    "    print \"Accuracy of the model is {:.10f}\".format(metrics.accuracy_score(y_test,y_predicted))\n",
    "    precision=(100*float(confusionmatrix.ix[1,1])/(confusionmatrix.ix[1,1]+confusionmatrix.ix[0,1]))\n",
    "    recall=(100*float(confusionmatrix.ix[1,1])/(confusionmatrix.ix[1,1]+confusionmatrix.ix[1,0]))\n",
    "    print \"Precision of positive class('Default') is {:.10f}\".format(precision)\n",
    "    print \"Recall of positive class('Default') is {:.10f}\".format(recall)\n",
    "    f_measure=((2)*precision*recall)/((recall)+(precision))\n",
    "    print \"The f-measure of the model is {:.10f}\".format(f_measure)\n",
    "    return Confu_matrix_df\n",
    "def roc_curve(y_test,y_predicted_probability,pos_label=None):\n",
    "    if pos_label==None:\n",
    "        pos_label=1\n",
    "    fpr,tpr,thresholds=metrics.roc_curve(y_test,y_predicted_probability,pos_label=pos_label )\n",
    "    plt.plot(fpr,tpr)\n",
    "    plt.xlabel(\"False Positive rate\")\n",
    "    plt.ylabel(\"True Positive rate\")\n",
    "    plt.title(\"ROC Curve\")\n",
    "    plt.xlim(0.0,1.0)\n",
    "    plt.ylim(0.0,1.0)\n",
    "    plt.grid(True)\n",
    "    print \"AUC of the model is {:.10f}\".format(metrics.roc_auc_score(y_test,y_predicted_probability))\n",
    "    plt.show()\n",
    "    \n",
    "#fpr,tpr,thresholds=roc_curve(y_test,y_predicted_probability,pos_label=1)\n",
    "def score_func_custom(y_test,y_predicted):\n",
    "    confusionMatrix=confusion_matrix(y_test,y_predicted)\n",
    "    cm=confusionMatrix\n",
    "    return float(cm[0][1]*10 + cm[1][0]*1)/(cm[0][0] + cm[0][1] + cm[1][0] + cm[1][1])\n",
    "def my_scorer_function(y_test, y_predicted):\n",
    "    confusionMatrix=confusion_matrix(y_test,y_predicted)\n",
    "    Confu_matrix_df1=pd.DataFrame(confusionMatrix)\n",
    "    Confu_matrix_df1.columns.name='PREDICTED'\n",
    "    Confu_matrix_df1.index.name='ACTUAL'\n",
    "    Confu_matrix_df1.name='CONFUSION MATRIX'\n",
    "    cost=(1*Confu_matrix_df1.ix[1,0])+(10*Confu_matrix_df1.ix[0,1])\n",
    "    return float(cost)/len(y_test)\n",
    "def two_scorer():\n",
    "    return make_scorer(my_scorer_function, greater_is_better=False)"
   ]
  },
  {
   "cell_type": "code",
   "execution_count": 4,
   "metadata": {
    "collapsed": false
   },
   "outputs": [
    {
     "name": "stderr",
     "output_type": "stream",
     "text": [
      "C:\\Users\\Krishna\\Anaconda2\\lib\\site-packages\\IPython\\core\\interactiveshell.py:2717: DtypeWarning: Columns (31,35,36,37,51) have mixed types. Specify dtype option on import or set low_memory=False.\n",
      "  interactivity=interactivity, compiler=compiler, result=result)\n"
     ]
    }
   ],
   "source": [
    "#Creating required datasets\n",
    "loans1 = pd.read_csv(\"mortgagereg.csv\")\n",
    "loans = loans1[[ 'orig_rt', 'orig_amt', 'ocltv', 'num_bo', 'dti', 'mi_pct', 'y_curr_rte', 'y_act_upb', 'y_rem_mths',\n",
    " 'fico_300_645', 'fico_645_685', 'fico_685_730', 'fico_730_765', 'fico_765_790', 'fico_790_850', 'dti_00_21',\n",
    " 'dti_21_27', 'dti_27_34', 'dti_34_41', 'dti_41_47', 'dti_47_100', 'OLTV_0_90', 'OLTV_90_95', 'OLTV_95_97', 'OLTV_97_103', 'OLTV_103_120', 'OLTV_120_150',\n",
    " 'book_month_1', 'book_month_2', 'book_month_3', 'book_month_4', 'book_month_5', 'book_month_6','book_month_7','book_month_8','book_month_9','book_month_10','book_month_11','book_month_12',\n",
    "'delta_Unemployment1', 'delta_Mortgage_rate1', 'delta_House_Price_Index__Level1', 'delta_Unemployment3',\n",
    " 'delta_Mortgage_rate3', 'delta_House_Price_Index__Level3', 'delta_Unemployment6', 'delta_Mortgage_rate6', 'delta_House_Price_Index__Level6', 'delta_Unemployment9',\n",
    " 'delta_Mortgage_rate9', 'delta_House_Price_Index__Level9', 'delta_Unemployment12', 'delta_Mortgage_rate12', 'delta_House_Price_Index__Level12',\n",
    " 'delta_Unemployment15', 'delta_Mortgage_rate15', 'delta_House_Price_Index__Level15', 'delta_Unemployment18', 'delta_Mortgage_rate18',\n",
    " 'delta_House_Price_Index__Level18', 'delta_Unemployment21', 'delta_Mortgage_rate21', 'delta_House_Price_Index__Level21', 'delta_Unemployment24', 'delta_Mortgage_rate24', 'delta_House_Price_Index__Level24']]"
   ]
  },
  {
   "cell_type": "code",
   "execution_count": 5,
   "metadata": {
    "collapsed": true
   },
   "outputs": [],
   "source": [
    "#creating loanspres and loanspresdef;\n",
    "loanspres1 = loans1[loans1[\"nwdate\"]!= \"DEC2015\"]"
   ]
  },
  {
   "cell_type": "code",
   "execution_count": 6,
   "metadata": {
    "collapsed": true
   },
   "outputs": [],
   "source": [
    "complete_df_X=loanspres1[[ 'orig_rt', 'orig_amt', 'ocltv', 'num_bo', 'dti', 'mi_pct', 'y_curr_rte', 'y_act_upb', 'y_rem_mths',\n",
    " 'fico_300_645', 'fico_645_685', 'fico_685_730', 'fico_730_765', 'fico_765_790', 'fico_790_850', 'dti_00_21',\n",
    " 'dti_21_27', 'dti_27_34', 'dti_34_41', 'dti_41_47', 'dti_47_100', 'OLTV_0_90', 'OLTV_90_95', 'OLTV_95_97', 'OLTV_97_103', 'OLTV_103_120', 'OLTV_120_150',\n",
    " 'book_month_1', 'book_month_2', 'book_month_3', 'book_month_4', 'book_month_5', 'book_month_6','book_month_7','book_month_8','book_month_9','book_month_10','book_month_11','book_month_12',\n",
    "'delta_Unemployment1', 'delta_Mortgage_rate1', 'delta_House_Price_Index__Level1', 'delta_Unemployment3',\n",
    " 'delta_Mortgage_rate3', 'delta_House_Price_Index__Level3', 'delta_Unemployment6', 'delta_Mortgage_rate6', 'delta_House_Price_Index__Level6', 'delta_Unemployment9',\n",
    " 'delta_Mortgage_rate9', 'delta_House_Price_Index__Level9', 'delta_Unemployment12', 'delta_Mortgage_rate12', 'delta_House_Price_Index__Level12',\n",
    " 'delta_Unemployment15', 'delta_Mortgage_rate15', 'delta_House_Price_Index__Level15', 'delta_Unemployment18', 'delta_Mortgage_rate18',\n",
    " 'delta_House_Price_Index__Level18', 'delta_Unemployment21', 'delta_Mortgage_rate21', 'delta_House_Price_Index__Level21', 'delta_Unemployment24', 'delta_Mortgage_rate24', 'delta_House_Price_Index__Level24']]"
   ]
  },
  {
   "cell_type": "code",
   "execution_count": 7,
   "metadata": {
    "collapsed": true
   },
   "outputs": [],
   "source": [
    "complete_df_y=loanspres1[[ 'default_flag']]"
   ]
  },
  {
   "cell_type": "code",
   "execution_count": 8,
   "metadata": {
    "collapsed": true
   },
   "outputs": [],
   "source": [
    "#Splitting into training and testing datasets;\n",
    "X_train1f, X_test1f, y_train1f, y_test1f = train_test_split(complete_df_X, complete_df_y, test_size=0.25, random_state=42)"
   ]
  },
  {
   "cell_type": "markdown",
   "metadata": {},
   "source": [
    "### Normalizing Data"
   ]
  },
  {
   "cell_type": "code",
   "execution_count": 9,
   "metadata": {
    "collapsed": true
   },
   "outputs": [],
   "source": [
    "X_train1f1 = (X_train1f-X_train1f.mean())/X_train1f.std()\n",
    "#(X_train1f - X_train1f.mean()) / (X_train1f.max() - X_train1f.min())"
   ]
  },
  {
   "cell_type": "code",
   "execution_count": 13,
   "metadata": {
    "collapsed": true
   },
   "outputs": [],
   "source": [
    "X_train1f1.drop(['OLTV_103_120', 'OLTV_120_150'], axis=1, inplace=True)"
   ]
  },
  {
   "cell_type": "code",
   "execution_count": 15,
   "metadata": {
    "collapsed": true
   },
   "outputs": [],
   "source": [
    "X_test1f1 = (X_test1f-X_test1f.mean())/X_test1f.std()"
   ]
  },
  {
   "cell_type": "code",
   "execution_count": 17,
   "metadata": {
    "collapsed": true
   },
   "outputs": [],
   "source": [
    "X_test1f1.drop(['OLTV_103_120', 'OLTV_120_150'], axis=1, inplace=True)"
   ]
  },
  {
   "cell_type": "markdown",
   "metadata": {},
   "source": [
    "### Random Forest"
   ]
  },
  {
   "cell_type": "code",
   "execution_count": 19,
   "metadata": {
    "collapsed": true
   },
   "outputs": [],
   "source": [
    "modelr = RandomForestRegressor(n_estimators = 100, oob_score =  True, random_state = 42)"
   ]
  },
  {
   "cell_type": "code",
   "execution_count": 20,
   "metadata": {
    "collapsed": false
   },
   "outputs": [
    {
     "name": "stderr",
     "output_type": "stream",
     "text": [
      "C:\\Users\\Krishna\\Anaconda2\\lib\\site-packages\\ipykernel\\__main__.py:1: DataConversionWarning: A column-vector y was passed when a 1d array was expected. Please change the shape of y to (n_samples,), for example using ravel().\n",
      "  if __name__ == '__main__':\n"
     ]
    }
   ],
   "source": [
    "modelr  =modelr.fit(X_train1f1,y_train1f)"
   ]
  },
  {
   "cell_type": "code",
   "execution_count": 21,
   "metadata": {
    "collapsed": false
   },
   "outputs": [
    {
     "data": {
      "text/plain": [
       "0.098607632958002678"
      ]
     },
     "execution_count": 21,
     "metadata": {},
     "output_type": "execute_result"
    }
   ],
   "source": [
    "modelr.oob_score_"
   ]
  },
  {
   "cell_type": "code",
   "execution_count": 23,
   "metadata": {
    "collapsed": false
   },
   "outputs": [
    {
     "data": {
      "text/plain": [
       "0.79442709913453313"
      ]
     },
     "execution_count": 23,
     "metadata": {},
     "output_type": "execute_result"
    }
   ],
   "source": [
    "#C-stat\n",
    "y_oob = modelr.predict(X_test1f1)\n",
    "roc_auc_score(y_test1f,y_oob)"
   ]
  },
  {
   "cell_type": "code",
   "execution_count": 28,
   "metadata": {
    "collapsed": true
   },
   "outputs": [],
   "source": [
    "y_oob1 = np.where(y_oob>0.27,1,0)"
   ]
  },
  {
   "cell_type": "code",
   "execution_count": 38,
   "metadata": {
    "collapsed": false
   },
   "outputs": [
    {
     "name": "stdout",
     "output_type": "stream",
     "text": [
      "CONFUSION MATRIX\n"
     ]
    },
    {
     "data": {
      "text/html": [
       "<div>\n",
       "<table border=\"1\" class=\"dataframe\">\n",
       "  <thead>\n",
       "    <tr style=\"text-align: right;\">\n",
       "      <th>PREDICTED</th>\n",
       "      <th>0</th>\n",
       "      <th>1</th>\n",
       "    </tr>\n",
       "    <tr>\n",
       "      <th>ACTUAL</th>\n",
       "      <th></th>\n",
       "      <th></th>\n",
       "    </tr>\n",
       "  </thead>\n",
       "  <tbody>\n",
       "    <tr>\n",
       "      <th>0</th>\n",
       "      <td>13405</td>\n",
       "      <td>904</td>\n",
       "    </tr>\n",
       "    <tr>\n",
       "      <th>1</th>\n",
       "      <td>942</td>\n",
       "      <td>430</td>\n",
       "    </tr>\n",
       "  </tbody>\n",
       "</table>\n",
       "</div>"
      ],
      "text/plain": [
       "PREDICTED      0    1\n",
       "ACTUAL               \n",
       "0          13405  904\n",
       "1            942  430"
      ]
     },
     "metadata": {},
     "output_type": "display_data"
    },
    {
     "name": "stdout",
     "output_type": "stream",
     "text": [
      "None\n",
      "Accuracy of the model is 0.8822779159\n",
      "Precision of positive class('Default') is 32.2338830585\n",
      "Recall of positive class('Default') is 31.3411078717\n",
      "The f-measure of the model is 31.7812269032\n"
     ]
    },
    {
     "data": {
      "text/html": [
       "<div>\n",
       "<table border=\"1\" class=\"dataframe\">\n",
       "  <thead>\n",
       "    <tr style=\"text-align: right;\">\n",
       "      <th>PREDICTED</th>\n",
       "      <th>0</th>\n",
       "      <th>1</th>\n",
       "    </tr>\n",
       "    <tr>\n",
       "      <th>ACTUAL</th>\n",
       "      <th></th>\n",
       "      <th></th>\n",
       "    </tr>\n",
       "  </thead>\n",
       "  <tbody>\n",
       "    <tr>\n",
       "      <th>0</th>\n",
       "      <td>13405</td>\n",
       "      <td>904</td>\n",
       "    </tr>\n",
       "    <tr>\n",
       "      <th>1</th>\n",
       "      <td>942</td>\n",
       "      <td>430</td>\n",
       "    </tr>\n",
       "  </tbody>\n",
       "</table>\n",
       "</div>"
      ],
      "text/plain": [
       "PREDICTED      0    1\n",
       "ACTUAL               \n",
       "0          13405  904\n",
       "1            942  430"
      ]
     },
     "execution_count": 38,
     "metadata": {},
     "output_type": "execute_result"
    }
   ],
   "source": [
    "confustion_matrix(y_test1f,y_oob1)"
   ]
  },
  {
   "cell_type": "code",
   "execution_count": 36,
   "metadata": {
    "collapsed": false
   },
   "outputs": [
    {
     "name": "stdout",
     "output_type": "stream",
     "text": [
      "AUC of the model is 0.7944270991\n"
     ]
    },
    {
     "data": {
      "image/png": "[encoded data removed]",
      "text/plain": [
       "<matplotlib.figure.Figure at 0x137355c0>"
      ]
     },
     "metadata": {},
     "output_type": "display_data"
    }
   ],
   "source": [
    "roc_curve(y_test1f,y_oob,pos_label=None)"
   ]
  },
  {
   "cell_type": "markdown",
   "metadata": {},
   "source": [
    "### Neural Networks"
   ]
  },
  {
   "cell_type": "code",
   "execution_count": 39,
   "metadata": {
    "collapsed": true
   },
   "outputs": [],
   "source": [
    "modeln = MLPClassifier(solver='lbfgs',hidden_layer_sizes=(66,33,10,1), max_iter =1000000,batch_size=2000)"
   ]
  },
  {
   "cell_type": "code",
   "execution_count": 40,
   "metadata": {
    "collapsed": false
   },
   "outputs": [
    {
     "name": "stdout",
     "output_type": "stream",
     "text": [
      "Wall time: 16min 39s\n"
     ]
    }
   ],
   "source": [
    "%time modeln = modeln.fit(X_train1f1.as_matrix().astype(np.float), y_train1f.values.ravel())"
   ]
  },
  {
   "cell_type": "code",
   "execution_count": 41,
   "metadata": {
    "collapsed": true
   },
   "outputs": [],
   "source": [
    "y_predictN = modeln.predict(X_test1f1)"
   ]
  },
  {
   "cell_type": "code",
   "execution_count": 43,
   "metadata": {
    "collapsed": false
   },
   "outputs": [
    {
     "name": "stdout",
     "output_type": "stream",
     "text": [
      "CONFUSION MATRIX\n"
     ]
    },
    {
     "data": {
      "text/html": [
       "<div>\n",
       "<table border=\"1\" class=\"dataframe\">\n",
       "  <thead>\n",
       "    <tr style=\"text-align: right;\">\n",
       "      <th>PREDICTED</th>\n",
       "      <th>0</th>\n",
       "      <th>1</th>\n",
       "    </tr>\n",
       "    <tr>\n",
       "      <th>ACTUAL</th>\n",
       "      <th></th>\n",
       "      <th></th>\n",
       "    </tr>\n",
       "  </thead>\n",
       "  <tbody>\n",
       "    <tr>\n",
       "      <th>0</th>\n",
       "      <td>13929</td>\n",
       "      <td>380</td>\n",
       "    </tr>\n",
       "    <tr>\n",
       "      <th>1</th>\n",
       "      <td>501</td>\n",
       "      <td>871</td>\n",
       "    </tr>\n",
       "  </tbody>\n",
       "</table>\n",
       "</div>"
      ],
      "text/plain": [
       "PREDICTED      0    1\n",
       "ACTUAL               \n",
       "0          13929  380\n",
       "1            501  871"
      ]
     },
     "metadata": {},
     "output_type": "display_data"
    },
    {
     "name": "stdout",
     "output_type": "stream",
     "text": [
      "None\n",
      "Accuracy of the model is 0.9438173586\n",
      "Precision of positive class('Default') is 69.6243005596\n",
      "Recall of positive class('Default') is 63.4839650146\n",
      "The f-measure of the model is 66.4125047655\n"
     ]
    },
    {
     "data": {
      "text/html": [
       "<div>\n",
       "<table border=\"1\" class=\"dataframe\">\n",
       "  <thead>\n",
       "    <tr style=\"text-align: right;\">\n",
       "      <th>PREDICTED</th>\n",
       "      <th>0</th>\n",
       "      <th>1</th>\n",
       "    </tr>\n",
       "    <tr>\n",
       "      <th>ACTUAL</th>\n",
       "      <th></th>\n",
       "      <th></th>\n",
       "    </tr>\n",
       "  </thead>\n",
       "  <tbody>\n",
       "    <tr>\n",
       "      <th>0</th>\n",
       "      <td>13929</td>\n",
       "      <td>380</td>\n",
       "    </tr>\n",
       "    <tr>\n",
       "      <th>1</th>\n",
       "      <td>501</td>\n",
       "      <td>871</td>\n",
       "    </tr>\n",
       "  </tbody>\n",
       "</table>\n",
       "</div>"
      ],
      "text/plain": [
       "PREDICTED      0    1\n",
       "ACTUAL               \n",
       "0          13929  380\n",
       "1            501  871"
      ]
     },
     "execution_count": 43,
     "metadata": {},
     "output_type": "execute_result"
    }
   ],
   "source": [
    "confustion_matrix(y_test1f,y_predictN)"
   ]
  },
  {
   "cell_type": "code",
   "execution_count": 44,
   "metadata": {
    "collapsed": false
   },
   "outputs": [
    {
     "name": "stdout",
     "output_type": "stream",
     "text": [
      "AUC of the model is 0.7944270991\n"
     ]
    },
    {
     "data": {
      "image/png": "[encoded data removed]",
      "text/plain": [
       "<matplotlib.figure.Figure at 0xd3d1080>"
      ]
     },
     "metadata": {},
     "output_type": "display_data"
    }
   ],
   "source": [
    "roc_curve(y_test1f,y_oob,pos_label=None)"
   ]
  },
  {
   "cell_type": "code",
   "execution_count": null,
   "metadata": {
    "collapsed": true
   },
   "outputs": [],
   "source": []
  }
 ],
 "metadata": {
  "kernelspec": {
   "display_name": "Python 2",
   "language": "python",
   "name": "python2"
  },
  "language_info": {
   "codemirror_mode": {
    "name": "ipython",
    "version": 2
   },
   "file_extension": ".py",
   "mimetype": "text/x-python",
   "name": "python",
   "nbconvert_exporter": "python",
   "pygments_lexer": "ipython2",
   "version": "2.7.13"
  }
 },
 "nbformat": 4,
 "nbformat_minor": 2
}
